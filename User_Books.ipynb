{
 "cells": [
  {
   "cell_type": "markdown",
   "id": "prostate-bradford",
   "metadata": {},
   "source": [
    "# DS 4300: Book Recommendation Engine\n",
    "## Sara Adra, Anika Das, Mirah Gordon, Genny Jawor"
   ]
  },
  {
   "cell_type": "markdown",
   "id": "driving-combat",
   "metadata": {},
   "source": [
    "This notebook is meant to serve as the home of all user facing interactions. \n",
    "\n",
    "The code here includes:\n",
    "* asking a user for four books inputs (which requires a book title and author name)\n",
    "* finding the records of those books (if they exist) in our mongo books collection\n",
    "* finding the top 5 reviews of each book in our mongo reviews collections\n",
    "* running sentiment analysis on reviews to find most common words\n",
    "* connecting to neo4j graph amd querying to find a book based on the common words"
   ]
  },
  {
   "cell_type": "markdown",
   "id": "instant-indication",
   "metadata": {},
   "source": [
    "### Connecting to Mongo"
   ]
  },
  {
   "cell_type": "code",
   "execution_count": 1,
   "id": "advance-convergence",
   "metadata": {},
   "outputs": [],
   "source": [
    "# import pymonogo to connect to the database and our collections\n",
    "import pymongo\n",
    "from pymongo import MongoClient\n",
    "import pprint\n",
    "import operator\n",
    "# create a mongo client\n",
    "client = MongoClient()\n",
    "# connect the client to the local host\n",
    "client = MongoClient('localhost', 27017)"
   ]
  },
  {
   "cell_type": "markdown",
   "id": "developed-kruger",
   "metadata": {},
   "source": [
    "**Setting up Mongo Client**"
   ]
  },
  {
   "cell_type": "code",
   "execution_count": 2,
   "id": "handmade-heater",
   "metadata": {},
   "outputs": [],
   "source": [
    "# find and use the demo database\n",
    "db = client.demo\n",
    "# find and use the books collection\n",
    "all_books = db.all_books\n",
    "# find and use the authors collection\n",
    "authors = db.authors\n",
    "# find and use the reviews collection\n",
    "reviews = db.reviews"
   ]
  },
  {
   "cell_type": "markdown",
   "id": "decimal-jacket",
   "metadata": {},
   "source": [
    "### Connecting to Neo4j"
   ]
  },
  {
   "cell_type": "code",
   "execution_count": null,
   "id": "fifty-nelson",
   "metadata": {},
   "outputs": [],
   "source": [
    "# import neo4j driver to connect to the database \n",
    "from neo4j import GraphDatabase\n",
    "\n",
    "uri = \"neo4j://localhost:7474\"\n",
    "driver = GraphDatabase.driver(uri, auth=(\"neo4j\", \"neo4jj\"))"
   ]
  },
  {
   "cell_type": "markdown",
   "id": "valuable-infrared",
   "metadata": {},
   "source": [
    "### Finding a Book and It's Reviews"
   ]
  },
  {
   "cell_type": "markdown",
   "id": "close-addition",
   "metadata": {},
   "source": [
    "We re-uploaded the books json in a new mongo collection that would be unedited to use in looking up book entries from user inputs.\n",
    "* /Users/mirahgordon/documents/MongoDB/bin/mongodb-tools/bin/mongoimport --db demo --collection all_books --file $HOME/data/all_books/goodreads_books.json\n",
    "\n",
    "We created a new index for faster querying.\n",
    "* db.all_books.createIndex( { 'title': -1 } )"
   ]
  },
  {
   "cell_type": "markdown",
   "id": "advised-governor",
   "metadata": {},
   "source": [
    "**Cleaning User Input**"
   ]
  },
  {
   "cell_type": "code",
   "execution_count": 3,
   "id": "injured-warning",
   "metadata": {},
   "outputs": [],
   "source": [
    "# imports\n",
    "import pandas as pd\n",
    "import numpy as np"
   ]
  },
  {
   "cell_type": "code",
   "execution_count": 4,
   "id": "chemical-silver",
   "metadata": {},
   "outputs": [
    {
     "data": {
      "text/plain": [
       "'Percy Jackson'"
      ]
     },
     "execution_count": 4,
     "metadata": {},
     "output_type": "execute_result"
    }
   ],
   "source": [
    "\"\"\"\n",
    "capitalizes each word in the given statement if necessary\n",
    "\"\"\"\n",
    "def capitalizeWords(statement):\n",
    "    \n",
    "    # words that should stay lowercase\n",
    "    # source: https://whenyouwrite.com/what-words-do-you-not-capitalize-in-a-title/\n",
    "    lowercase_words = ['and', 'as', 'at', 'but', 'by', 'for', 'from', 'if', 'in', 'into', 'like', 'near', 'nor', 'of', 'off', 'on', 'once', 'onto', 'or', 'over', 'past', 'so', 'than', 'that', 'till', 'to', 'up', 'upon', 'with', 'when', 'yet']\n",
    "    \n",
    "    # intialize list for fixed words\n",
    "    fixed_words_list = []\n",
    "    \n",
    "    # iterate through each word in the given statement\n",
    "    for word in statement.split(' '):\n",
    "        # make the word all lowercase letters\n",
    "        fixed_word = word.lower()\n",
    "        # if word is not in the list of words that should stay lowercase, capitalize it\n",
    "        if (fixed_word not in lowercase_words):\n",
    "            fixed_word = fixed_word.capitalize()\n",
    "            \n",
    "        # append the fixed word to the list of fixed words\n",
    "        fixed_words_list.append(fixed_word)\n",
    "       \n",
    "    # return the inputted statement capitalized as necessary\n",
    "    # (by joining the items in the fixed_words_list with a space)\n",
    "    return ' '.join(fixed_words_list)\n",
    "            \n",
    "            \n",
    "capitalizeWords('percY JaCksOn')"
   ]
  },
  {
   "cell_type": "markdown",
   "id": "derived-health",
   "metadata": {},
   "source": [
    "**Asking for User Input**"
   ]
  },
  {
   "cell_type": "code",
   "execution_count": 5,
   "id": "varied-union",
   "metadata": {},
   "outputs": [
    {
     "name": "stdout",
     "output_type": "stream",
     "text": [
      "Please provide your 4 favorite books below:\n",
      "\n",
      "Book 1:\n",
      "\n",
      "     Title: 1984\n",
      "     Author: George Orwell\n",
      "\n",
      "Book 2:\n",
      "\n",
      "     Title: The Martian\n",
      "     Author: Andy Weir\n",
      "\n",
      "Book 3:\n",
      "\n",
      "     Title: Wool\n",
      "     Author: Hugh Howey\n",
      "\n",
      "Book 4:\n",
      "\n",
      "     Title: Crime and Punishment\n",
      "     Author: Fyodor Dostoevsky\n"
     ]
    }
   ],
   "source": [
    "# get inputs from user (favorite books)\n",
    "num_of_books = 4\n",
    "print(\"Please provide your \" + str(num_of_books) + \" favorite books below:\")\n",
    "\n",
    "inputted_books = []\n",
    "for book_i in range(1, num_of_books + 1):\n",
    "    print(\"\\nBook \" + str(book_i) + \":\\n\")\n",
    "    book_title = input(\"     Title: \")\n",
    "    book_author = input(\"     Author: \")\n",
    "    \n",
    "    # fix the capitalization of user inputs\n",
    "    book_title_fixed_capitalization = capitalizeWords(book_title)\n",
    "    book_author_fixed_capitalization = capitalizeWords(book_author)\n",
    "    \n",
    "    inputted_books.append((book_title_fixed_capitalization, book_author_fixed_capitalization))"
   ]
  },
  {
   "cell_type": "markdown",
   "id": "harmful-lyric",
   "metadata": {},
   "source": [
    "**Querying Mongo based on Input**"
   ]
  },
  {
   "cell_type": "code",
   "execution_count": 6,
   "id": "arbitrary-vatican",
   "metadata": {},
   "outputs": [],
   "source": [
    "# empty list to hold entries\n",
    "entries = []\n",
    "\n",
    "# find a book entry in the books collection\n",
    "for book in inputted_books:\n",
    "    # get only the title of the book\n",
    "    title = book[0]\n",
    "    # mongo command to find the book entry of a given book using the title\n",
    "    book_entry = all_books.find( {'title': title, 'language_code': 'eng' }, { 'book_id':1, 'title':1, 'description':1, 'num_pages':1, '_id':0}).limit(1)\n",
    "    \n",
    "    for b in book_entry:\n",
    "        entries.append(b)        "
   ]
  },
  {
   "cell_type": "code",
   "execution_count": 7,
   "id": "practical-designer",
   "metadata": {},
   "outputs": [],
   "source": [
    "# empty list to hold book ids\n",
    "book_ids = []\n",
    "\n",
    "# get each book's id from the list of entries\n",
    "for book in entries:\n",
    "    book_id = book['book_id']\n",
    "    book_ids.append(book_id)"
   ]
  },
  {
   "cell_type": "code",
   "execution_count": 8,
   "id": "laden-green",
   "metadata": {},
   "outputs": [],
   "source": [
    "# get reviews for each book\n",
    "\n",
    "# create dataframe to hold all the top reviews\n",
    "top_reviews = pd.DataFrame()\n",
    "\n",
    "# iterate through \n",
    "for book in book_ids:\n",
    "\n",
    "    # mongo command to find the reviews with a specific book id\n",
    "    book_reviews = reviews.find( { 'book_id' : str(book) }, { 'book_id':1, 'review_text':1, 'n_votes':1, '_id':0 } )\n",
    "\n",
    "    # collect all reviews as a list\n",
    "    top5 = []\n",
    "\n",
    "    for r in book_reviews:\n",
    "        top5.append(r)\n",
    "    \n",
    "    # sort reviews by number of votes and keep the top 5\n",
    "    sorted_by_votes = sorted(top5, key=lambda d: d['n_votes'])\n",
    "    sorted_by_votes = sorted_by_votes[0:5]\n",
    "        \n",
    "    # append the top 5 reviews to the dataframe \n",
    "    top_reviews = top_reviews.append(sorted_by_votes, ignore_index=True, sort=False)"
   ]
  },
  {
   "cell_type": "code",
   "execution_count": 9,
   "id": "operating-cover",
   "metadata": {},
   "outputs": [],
   "source": [
    "# set the index as the book id\n",
    "top_reviews.set_index('book_id', inplace=True)\n",
    "# drop any row with an empty review\n",
    "top_reviews['review_text'] = top_reviews['review_text'].replace('', np.nan)\n",
    "top_reviews.dropna(axis=0, subset=['review_text'], inplace=True)"
   ]
  },
  {
   "cell_type": "code",
   "execution_count": 10,
   "id": "fundamental-champion",
   "metadata": {},
   "outputs": [
    {
     "data": {
      "text/html": [
       "<div>\n",
       "<style scoped>\n",
       "    .dataframe tbody tr th:only-of-type {\n",
       "        vertical-align: middle;\n",
       "    }\n",
       "\n",
       "    .dataframe tbody tr th {\n",
       "        vertical-align: top;\n",
       "    }\n",
       "\n",
       "    .dataframe thead th {\n",
       "        text-align: right;\n",
       "    }\n",
       "</style>\n",
       "<table border=\"1\" class=\"dataframe\">\n",
       "  <thead>\n",
       "    <tr style=\"text-align: right;\">\n",
       "      <th></th>\n",
       "      <th>review_text</th>\n",
       "      <th>n_votes</th>\n",
       "    </tr>\n",
       "    <tr>\n",
       "      <th>book_id</th>\n",
       "      <th></th>\n",
       "      <th></th>\n",
       "    </tr>\n",
       "  </thead>\n",
       "  <tbody>\n",
       "    <tr>\n",
       "      <th>17678435</th>\n",
       "      <td>One more angle of thinking how world is going ...</td>\n",
       "      <td>1</td>\n",
       "    </tr>\n",
       "    <tr>\n",
       "      <th>26853362</th>\n",
       "      <td>A fantastic book. Mark is a great character wh...</td>\n",
       "      <td>0</td>\n",
       "    </tr>\n",
       "    <tr>\n",
       "      <th>26853362</th>\n",
       "      <td>4.5 stars. THIS BOOK WAS SO AMAZING I CRIED SO...</td>\n",
       "      <td>0</td>\n",
       "    </tr>\n",
       "    <tr>\n",
       "      <th>26853362</th>\n",
       "      <td>No, I haven't seen the movie (yet). \\n In fact...</td>\n",
       "      <td>0</td>\n",
       "    </tr>\n",
       "    <tr>\n",
       "      <th>26853362</th>\n",
       "      <td>Wow. Possibly my favourite read of the year.</td>\n",
       "      <td>0</td>\n",
       "    </tr>\n",
       "  </tbody>\n",
       "</table>\n",
       "</div>"
      ],
      "text/plain": [
       "                                                review_text  n_votes\n",
       "book_id                                                             \n",
       "17678435  One more angle of thinking how world is going ...        1\n",
       "26853362  A fantastic book. Mark is a great character wh...        0\n",
       "26853362  4.5 stars. THIS BOOK WAS SO AMAZING I CRIED SO...        0\n",
       "26853362  No, I haven't seen the movie (yet). \\n In fact...        0\n",
       "26853362       Wow. Possibly my favourite read of the year.        0"
      ]
     },
     "execution_count": 10,
     "metadata": {},
     "output_type": "execute_result"
    }
   ],
   "source": [
    "top_reviews.head()"
   ]
  },
  {
   "cell_type": "markdown",
   "id": "assumed-settlement",
   "metadata": {},
   "source": [
    "### Analyzing Common Words in Reviews"
   ]
  },
  {
   "cell_type": "code",
   "execution_count": 11,
   "id": "forward-sheep",
   "metadata": {},
   "outputs": [
    {
     "name": "stderr",
     "output_type": "stream",
     "text": [
      "[nltk_data] Downloading package stopwords to\n",
      "[nltk_data]     /Users/mirahgordon/nltk_data...\n",
      "[nltk_data]   Package stopwords is already up-to-date!\n"
     ]
    }
   ],
   "source": [
    "# imports for stop words and counter\n",
    "from collections import Counter\n",
    "import nltk\n",
    "from nltk.corpus import stopwords\n",
    "nltk.download('stopwords')\n",
    "set_stopwords = set(stopwords.words('english'))\n",
    "set_stopwords.update(['book', 'books', 'author', 'story', 'read', \"i've\"])"
   ]
  },
  {
   "cell_type": "code",
   "execution_count": 12,
   "id": "shaped-skiing",
   "metadata": {},
   "outputs": [],
   "source": [
    "# compile all reviews for books \n",
    "reviews_list = top_reviews['review_text'].tolist()"
   ]
  },
  {
   "cell_type": "code",
   "execution_count": 13,
   "id": "conscious-milwaukee",
   "metadata": {},
   "outputs": [],
   "source": [
    "\"\"\"\n",
    "function to clean the given word (by making it all lower case\n",
    "letters + removing any trailing punctuation if present)\n",
    "\"\"\"\n",
    "def clean_word(word):\n",
    "    # make the word all lowercase letters\n",
    "    cleaned_word = word.lower()\n",
    "    \n",
    "    # check if the last character in the word is a letter or not\n",
    "    # remove last character if not a letter\n",
    "    # (ex. ',' '.' '-' ' ')\n",
    "    if (cleaned_word[-1].isalpha() == False):\n",
    "         cleaned_word = cleaned_word[:-1]\n",
    "    \n",
    "    return cleaned_word"
   ]
  },
  {
   "cell_type": "code",
   "execution_count": 14,
   "id": "abroad-privacy",
   "metadata": {},
   "outputs": [],
   "source": [
    "most_freq_word_column_labels = []\n",
    "for idx in range(1, 11):\n",
    "    most_freq_word_column_labels.append('most_freq_word_' + str(idx))"
   ]
  },
  {
   "cell_type": "code",
   "execution_count": 15,
   "id": "canadian-texture",
   "metadata": {},
   "outputs": [
    {
     "data": {
      "text/html": [
       "<div>\n",
       "<style scoped>\n",
       "    .dataframe tbody tr th:only-of-type {\n",
       "        vertical-align: middle;\n",
       "    }\n",
       "\n",
       "    .dataframe tbody tr th {\n",
       "        vertical-align: top;\n",
       "    }\n",
       "\n",
       "    .dataframe thead th {\n",
       "        text-align: right;\n",
       "    }\n",
       "</style>\n",
       "<table border=\"1\" class=\"dataframe\">\n",
       "  <thead>\n",
       "    <tr style=\"text-align: right;\">\n",
       "      <th></th>\n",
       "      <th>most_freq_word_1</th>\n",
       "      <th>most_freq_word_2</th>\n",
       "      <th>most_freq_word_3</th>\n",
       "      <th>most_freq_word_4</th>\n",
       "      <th>most_freq_word_5</th>\n",
       "      <th>most_freq_word_6</th>\n",
       "      <th>most_freq_word_7</th>\n",
       "      <th>most_freq_word_8</th>\n",
       "      <th>most_freq_word_9</th>\n",
       "      <th>most_freq_word_10</th>\n",
       "    </tr>\n",
       "  </thead>\n",
       "  <tbody>\n",
       "    <tr>\n",
       "      <th>17678435</th>\n",
       "      <td>going</td>\n",
       "      <td>one</td>\n",
       "      <td>world</td>\n",
       "      <td>person</td>\n",
       "      <td>angle</td>\n",
       "      <td>thinking</td>\n",
       "      <td>expect</td>\n",
       "      <td>future</td>\n",
       "      <td>..</td>\n",
       "      <td>possibly</td>\n",
       "    </tr>\n",
       "    <tr>\n",
       "      <th>26853362</th>\n",
       "      <td>character</td>\n",
       "      <td>makes</td>\n",
       "      <td>feel</td>\n",
       "      <td>fact</td>\n",
       "      <td>interesting</td>\n",
       "      <td>would</td>\n",
       "      <td>fantastic</td>\n",
       "      <td>mark</td>\n",
       "      <td>great</td>\n",
       "      <td>can't</td>\n",
       "    </tr>\n",
       "    <tr>\n",
       "      <th>17164686</th>\n",
       "      <td>silo</td>\n",
       "      <td>juliette</td>\n",
       "      <td>people</td>\n",
       "      <td>outside</td>\n",
       "      <td>next</td>\n",
       "      <td>point</td>\n",
       "      <td>really</td>\n",
       "      <td>well</td>\n",
       "      <td>done</td>\n",
       "      <td>post-apocalyptic</td>\n",
       "    </tr>\n",
       "    <tr>\n",
       "      <th>23398716</th>\n",
       "      <td>novel</td>\n",
       "      <td>yang</td>\n",
       "      <td>great</td>\n",
       "      <td>dostoyevsky</td>\n",
       "      <td>one</td>\n",
       "      <td>think</td>\n",
       "      <td>felt</td>\n",
       "      <td>crime</td>\n",
       "      <td>manusia</td>\n",
       "      <td>literature</td>\n",
       "    </tr>\n",
       "  </tbody>\n",
       "</table>\n",
       "</div>"
      ],
      "text/plain": [
       "         most_freq_word_1 most_freq_word_2 most_freq_word_3 most_freq_word_4  \\\n",
       "17678435            going              one            world           person   \n",
       "26853362        character            makes             feel             fact   \n",
       "17164686             silo         juliette           people          outside   \n",
       "23398716            novel             yang            great      dostoyevsky   \n",
       "\n",
       "         most_freq_word_5 most_freq_word_6 most_freq_word_7 most_freq_word_8  \\\n",
       "17678435            angle         thinking           expect           future   \n",
       "26853362      interesting            would        fantastic             mark   \n",
       "17164686             next            point           really             well   \n",
       "23398716              one            think             felt            crime   \n",
       "\n",
       "         most_freq_word_9 most_freq_word_10  \n",
       "17678435               ..          possibly  \n",
       "26853362            great             can't  \n",
       "17164686             done  post-apocalyptic  \n",
       "23398716          manusia        literature  "
      ]
     },
     "execution_count": 15,
     "metadata": {},
     "output_type": "execute_result"
    }
   ],
   "source": [
    "most_freq_words_all_books = dict()\n",
    "most_freq_words_all_books_df = pd.DataFrame(columns=most_freq_word_column_labels)\n",
    "\n",
    "for book_id in top_reviews.index.unique():\n",
    "    total_count_Counter = Counter()\n",
    "    for index, review in top_reviews[top_reviews.index == book_id].iterrows():\n",
    "        words_in_review_list = str(review['review_text']).split(' ')\n",
    "        cleaned_words_in_review = filter(lambda word: (word not in set_stopwords) and (word != ''), map(clean_word, words_in_review_list))\n",
    "        cleaned_review_word_count_Counter = Counter(cleaned_words_in_review)\n",
    "        total_count_Counter = Counter(total_count_Counter) + Counter(cleaned_review_word_count_Counter)\n",
    "\n",
    "    most_freq_words = total_count_Counter.most_common(10)\n",
    "    most_freq_words_all_books[book_id] = most_freq_words\n",
    "    \n",
    "    most_freq_words_list = [word_to_freq[0] for word_to_freq in most_freq_words]\n",
    "    while len(most_freq_words_list) < 10: most_freq_words_list.append(np.nan)\n",
    "\n",
    "    most_freq_words_all_books_df.loc[book_id] = most_freq_words_list\n",
    "\n",
    "most_freq_words_all_books_df"
   ]
  },
  {
   "cell_type": "code",
   "execution_count": 16,
   "id": "informed-sender",
   "metadata": {
    "scrolled": false
   },
   "outputs": [],
   "source": [
    "set_freq_words = set()\n",
    "for col in most_freq_word_column_labels:\n",
    "    set_freq_words = set_freq_words.union(set(most_freq_words_all_books_df[col].unique()))\n",
    "    \n",
    "    \n",
    "all_most_freq_words_df = pd.DataFrame(list(set_freq_words), columns=['most_freq_words'])\n",
    "all_most_freq_words_df.dropna(inplace=True)"
   ]
  },
  {
   "cell_type": "code",
   "execution_count": 17,
   "id": "reverse-costa",
   "metadata": {},
   "outputs": [
    {
     "data": {
      "text/plain": [
       "['angle',\n",
       " 'literature',\n",
       " 'really',\n",
       " 'point',\n",
       " 'fact',\n",
       " 'yang',\n",
       " \"can't\",\n",
       " 'crime',\n",
       " 'interesting',\n",
       " 'novel',\n",
       " 'thinking',\n",
       " 'makes',\n",
       " 'juliette',\n",
       " 'would',\n",
       " 'mark',\n",
       " 'future',\n",
       " 'possibly',\n",
       " 'silo',\n",
       " 'think',\n",
       " 'post-apocalyptic',\n",
       " 'dostoyevsky',\n",
       " 'well',\n",
       " 'going',\n",
       " 'one',\n",
       " 'fantastic',\n",
       " 'character',\n",
       " 'people',\n",
       " 'feel',\n",
       " 'world',\n",
       " 'manusia',\n",
       " 'person',\n",
       " 'felt',\n",
       " 'done',\n",
       " 'great',\n",
       " 'next',\n",
       " '..',\n",
       " 'expect',\n",
       " 'outside']"
      ]
     },
     "execution_count": 17,
     "metadata": {},
     "output_type": "execute_result"
    }
   ],
   "source": [
    "# represent frequent words in a list to give to neo4j\n",
    "frequent_words = all_most_freq_words_df['most_freq_words'].tolist()\n",
    "frequent_words"
   ]
  },
  {
   "cell_type": "markdown",
   "id": "downtown-factory",
   "metadata": {},
   "source": [
    "### Cypher Query and Recommendation"
   ]
  },
  {
   "cell_type": "code",
   "execution_count": null,
   "id": "metallic-delhi",
   "metadata": {},
   "outputs": [],
   "source": [
    "def get_books(tx, words):\n",
    "    books = []\n",
    "    result = tx.run(\"MATCH (book:Title)-[r:Assoc]->(cw:CommonWords) WHERE cw.CommonWords IN $words RETURN book LIMIT 4\", words=frequen_words)\n",
    "    for record in result:\n",
    "        books.append(record[\"Title\"])\n",
    "    return books\n",
    "\n",
    "with driver.session() as session:\n",
    "    books = session.read_transaction(get_books, frequent_words)\n",
    "\n",
    "driver.close()"
   ]
  },
  {
   "cell_type": "code",
   "execution_count": 21,
   "id": "personal-environment",
   "metadata": {},
   "outputs": [
    {
     "name": "stdout",
     "output_type": "stream",
     "text": [
      "\u001b[1mBased on your favorite books:\n",
      " \u001b[0m\n",
      "1984 by: George Orwell\n",
      "The Martian by: Andy Weir\n",
      "Wool by: Hugh Howey\n",
      "Crime and Punishment by: Fyodor Dostoevsky\n",
      "\u001b[1m\n",
      "Our engine recommends the following books:\n",
      "  \u001b[0m\n",
      "Charlotte by: David Foenkinos\n",
      "M Is For Malice by: Sue Grafton\n",
      "A Working Man (Men of Manhattan, #4) by: Sandrine Gasq-Dion\n",
      "Holy Hustler by: P.L. Wilson\n"
     ]
    }
   ],
   "source": [
    "# present recommended books to the user\n",
    "print(\"\\033[1mBased on your favorite books:\\n \\033[0m\")\n",
    "\n",
    "for fav_book in inputted_books:\n",
    "    print(fav_book[0] + \" by: \" + fav_book[1])\n",
    "    \n",
    "print(\"\\033[1m\\nOur engine recommends the following books:\\n  \\033[0m\")\n",
    "\n",
    "for book in books:\n",
    "    print(book[0] + \" by: \" + book[1])"
   ]
  }
 ],
 "metadata": {
  "kernelspec": {
   "display_name": "Python 3",
   "language": "python",
   "name": "python3"
  },
  "language_info": {
   "codemirror_mode": {
    "name": "ipython",
    "version": 3
   },
   "file_extension": ".py",
   "mimetype": "text/x-python",
   "name": "python",
   "nbconvert_exporter": "python",
   "pygments_lexer": "ipython3",
   "version": "3.8.5"
  }
 },
 "nbformat": 4,
 "nbformat_minor": 5
}
